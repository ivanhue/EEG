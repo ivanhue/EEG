{
 "cells": [
  {
   "cell_type": "code",
   "execution_count": 5,
   "id": "1d4daa88",
   "metadata": {},
   "outputs": [],
   "source": [
    "using DelimitedFiles\n",
    "using Plots\n",
    "using JLD\n",
    "using GraphRecipes\n",
    "using Statistics\n",
    "push!(LOAD_PATH, pwd())\n",
    "using FuncionesEEG\n",
    "# import Pkg; Pkg.add(\"Combinatorics\")\n",
    "# import Pkg; Pkg.add(\"StatsBase\")"
   ]
  },
  {
   "cell_type": "code",
   "execution_count": 4,
   "id": "bd083d76",
   "metadata": {},
   "outputs": [
    {
     "name": "stdout",
     "output_type": "stream",
     "text": [
      "\u001b[32m\u001b[1m      Status\u001b[22m\u001b[39m `C:\\Users\\reyal\\.julia\\environments\\v1.7\\Project.toml`\n",
      " \u001b[90m [861a8166] \u001b[39mCombinatorics v1.0.2\n",
      " \u001b[90m [bd48cda9] \u001b[39mGraphRecipes v0.5.12\n",
      " \u001b[90m [7073ff75] \u001b[39mIJulia v1.24.0\n",
      " \u001b[90m [4138dd39] \u001b[39mJLD v0.13.3\n",
      " \u001b[90m [91a5bcdd] \u001b[39mPlots v1.38.9\n",
      " \u001b[90m [2913bbd2] \u001b[39mStatsBase v0.33.21\n"
     ]
    }
   ],
   "source": [
    "import Pkg; Pkg.status()"
   ]
  },
  {
   "attachments": {},
   "cell_type": "markdown",
   "id": "cba058f3",
   "metadata": {},
   "source": [
    "## Resultados"
   ]
  },
  {
   "cell_type": "code",
   "execution_count": null,
   "id": "07b1fd90",
   "metadata": {},
   "outputs": [],
   "source": [
    "# Aquí se da la dirección donde está el archivo a trabajar\n",
    "#Direccion = \"C:/Users/1100423746/Dropbox/EEG/exp136_Igancio_32CH.dat\"\n",
    "Direccion = \"exp136_Igancio_32CH.dat\";\n",
    "Dir = split(Direccion,\".\")[1];\n",
    "Archivo = split(basename(Direccion),\".\")[1];\n",
    "Datos = readdlm( Direccion );\n",
    "ruta_resultados = joinpath(Dir * \"_Resultados\" );\n",
    "mkpath( ruta_resultados );\n",
    "#-----------------------------------------------------------------------------------------#\n",
    "Headers , Canales = DatosDeTodos( Datos , 2 , 3 );\n",
    "NomCan = Archivo*\"_Canales.jld\"\n",
    "ruta_archivo = joinpath( ruta_resultados , NomCan )\n",
    "save( ruta_archivo , Canales )\n",
    "#-------------------------------------------------------------------------------------------#\n",
    "# Funcion necesaria para encontrar los vecinos\n",
    "elementos = [ -1 0 1 ]\n",
    "combs = COMS(elementos);\n",
    "lados = [ 3 5 5 5 5 5 2 ]\n",
    "MVCuadComp = ArrayParaHeatmap( lados , Canales , Prohibidas , Coordenadas );\n",
    "NomCuad = Archivo*\"_DatosEnCuadrado.jld\"\n",
    "ruta_archivo = joinpath( ruta_resultados , NomCuad )\n",
    "save( ruta_archivo , \"MVCuacComp\" , MVCuadComp )\n",
    "MVYPromedios = PromVacios(Prohibidas,Coordenadas,combs,Headers,Canales,MVCuadComp);\n",
    "#-------------------------------------------------------------------------------------------#\n",
    "MVcsda = CSDAZapfe( MVYPromedios );\n",
    "NomCSDA = Archivo*\"_CSDA.jld\"\n",
    "ruta_archivo = joinpath( ruta_resultados , NomCSDA )\n",
    "save( ruta_archivo , \"MVcsda\" , MVcsda )\n",
    "#-------------------------------------------------------------------------------------------#\n",
    "CMP , CMN = CentrosDeMasa( MVcsda , MVcsda , 0.5 );\n",
    "NomCM = Archivo*\"_CM.jld\"\n",
    "ruta_archivo = joinpath( ruta_resultados , NomCM )\n",
    "save( ruta_archivo , \"CMP\" , CMP , \"CMN\" , CMN )\n",
    "#-------------------------------------------------------------------------------------------#\n",
    "DistTol = 1.5\n",
    "TTol = 3\n",
    "TraysPos = Dinamica( CMP , DistTol , TTol );\n",
    "TraysNeg = Dinamica( CMN , DistTol , TTol );\n",
    "NomTrays = Archivo*\"_Trayectorias.jld\"\n",
    "ruta_archivo = joinpath( ruta_resultados , NomTrays )\n",
    "save( ruta_archivo , \"TP\" , TraysPos , \"TN\" , TraysNeg )\n",
    "#-------------------------------------------------------------------------------------------#\n",
    "# El siguiente es un diccionario que contiene el inicio y final de cada trayectoria\n",
    "( IniciosP , FinalesP ) = IniciosYFinales( TraysPos );\n",
    "( IniciosN , FinalesN ) = IniciosYFinales( TraysNeg );\n",
    "# Ahora rellenamos los huecos que existan en las trayectorias\n",
    "TraysPos = RellenaHuecos( TraysPos , IniciosP , FinalesP );\n",
    "TraysNeg = RellenaHuecos( TraysNeg , IniciosN , FinalesN );\n",
    "# En esta sección recorremos las coordenadas y las transformamos a polares\n",
    "TraysPosP = ArreglaCoordenadas( TraysPos , lados );\n",
    "TraysNegP = ArreglaCoordenadas( TraysNeg , lados );\n",
    "NomTPs = Archivo*\"_TraysPolares.jld\"\n",
    "ruta_archivo = joinpath( ruta_resultados , NomTPs )\n",
    "save( ruta_archivo , \"TPP\" , TraysPosP , \"TNP\" , TraysNegP )"
   ]
  },
  {
   "cell_type": "code",
   "execution_count": null,
   "id": "11bcdac5",
   "metadata": {},
   "outputs": [],
   "source": [
    "# Debido a que la frecuecia es 500 Hz, debe haber 500 frames por un segundo"
   ]
  },
  {
   "cell_type": "code",
   "execution_count": 3,
   "id": "48486b30",
   "metadata": {},
   "outputs": [],
   "source": [
    "# Generamos colores para las trayectorias para evitar que se confundan\n",
    "CTPs = [ :red1 , :lime , :orange, :cyan , :grey54 , :blue2 , :green2 , :deeppink ];\n",
    "CTP = GeneraColores( CTPs , TraysPosP );\n",
    "CTNs = [ :wheat3 , :teal , :plum, :bisque , :gray0 , :navy , :pink3 , :indigo ];\n",
    "CTN = GeneraColores( CTNs , TraysNegP );"
   ]
  },
  {
   "attachments": {},
   "cell_type": "markdown",
   "id": "861b960c",
   "metadata": {},
   "source": [
    "## Gifs"
   ]
  },
  {
   "cell_type": "code",
   "execution_count": 4,
   "id": "2dad5c88",
   "metadata": {},
   "outputs": [
    {
     "name": "stderr",
     "output_type": "stream",
     "text": [
      "\u001b[36m\u001b[1m[ \u001b[22m\u001b[39m\u001b[36m\u001b[1mInfo: \u001b[22m\u001b[39mSaved animation to e:\\reyal\\Documents\\gitWorkspace\\cinvestav\\EEG\\exp136_Igancio_32CH_Resultadosgifs\\CSDA_01.gif\n",
      "\u001b[36m\u001b[1m[ \u001b[22m\u001b[39m\u001b[36m\u001b[1mInfo: \u001b[22m\u001b[39mSaved animation to e:\\reyal\\Documents\\gitWorkspace\\cinvestav\\EEG\\exp136_Igancio_32CH_Resultadosgifs\\Trayectorias_01.gif\n",
      "\u001b[36m\u001b[1m[ \u001b[22m\u001b[39m\u001b[36m\u001b[1mInfo: \u001b[22m\u001b[39mSaved animation to e:\\reyal\\Documents\\gitWorkspace\\cinvestav\\EEG\\exp136_Igancio_32CH_Resultadosgifs\\CSDA_02.gif\n",
      "\u001b[36m\u001b[1m[ \u001b[22m\u001b[39m\u001b[36m\u001b[1mInfo: \u001b[22m\u001b[39mSaved animation to e:\\reyal\\Documents\\gitWorkspace\\cinvestav\\EEG\\exp136_Igancio_32CH_Resultadosgifs\\Trayectorias_02.gif\n",
      "\u001b[36m\u001b[1m[ \u001b[22m\u001b[39m\u001b[36m\u001b[1mInfo: \u001b[22m\u001b[39mSaved animation to e:\\reyal\\Documents\\gitWorkspace\\cinvestav\\EEG\\exp136_Igancio_32CH_Resultadosgifs\\CSDA_03.gif\n",
      "\u001b[36m\u001b[1m[ \u001b[22m\u001b[39m\u001b[36m\u001b[1mInfo: \u001b[22m\u001b[39mSaved animation to e:\\reyal\\Documents\\gitWorkspace\\cinvestav\\EEG\\exp136_Igancio_32CH_Resultadosgifs\\Trayectorias_03.gif\n",
      "\u001b[36m\u001b[1m[ \u001b[22m\u001b[39m\u001b[36m\u001b[1mInfo: \u001b[22m\u001b[39mSaved animation to e:\\reyal\\Documents\\gitWorkspace\\cinvestav\\EEG\\exp136_Igancio_32CH_Resultadosgifs\\CSDA_04.gif\n",
      "\u001b[36m\u001b[1m[ \u001b[22m\u001b[39m\u001b[36m\u001b[1mInfo: \u001b[22m\u001b[39mSaved animation to e:\\reyal\\Documents\\gitWorkspace\\cinvestav\\EEG\\exp136_Igancio_32CH_Resultadosgifs\\Trayectorias_04.gif\n",
      "\u001b[36m\u001b[1m[ \u001b[22m\u001b[39m\u001b[36m\u001b[1mInfo: \u001b[22m\u001b[39mSaved animation to e:\\reyal\\Documents\\gitWorkspace\\cinvestav\\EEG\\exp136_Igancio_32CH_Resultadosgifs\\CSDA_05.gif\n",
      "\u001b[36m\u001b[1m[ \u001b[22m\u001b[39m\u001b[36m\u001b[1mInfo: \u001b[22m\u001b[39mSaved animation to e:\\reyal\\Documents\\gitWorkspace\\cinvestav\\EEG\\exp136_Igancio_32CH_Resultadosgifs\\Trayectorias_05.gif\n",
      "\u001b[36m\u001b[1m[ \u001b[22m\u001b[39m\u001b[36m\u001b[1mInfo: \u001b[22m\u001b[39mSaved animation to e:\\reyal\\Documents\\gitWorkspace\\cinvestav\\EEG\\exp136_Igancio_32CH_Resultadosgifs\\CSDA_06.gif\n",
      "\u001b[36m\u001b[1m[ \u001b[22m\u001b[39m\u001b[36m\u001b[1mInfo: \u001b[22m\u001b[39mSaved animation to e:\\reyal\\Documents\\gitWorkspace\\cinvestav\\EEG\\exp136_Igancio_32CH_Resultadosgifs\\Trayectorias_06.gif\n",
      "\u001b[36m\u001b[1m[ \u001b[22m\u001b[39m\u001b[36m\u001b[1mInfo: \u001b[22m\u001b[39mSaved animation to e:\\reyal\\Documents\\gitWorkspace\\cinvestav\\EEG\\exp136_Igancio_32CH_Resultadosgifs\\CSDA_07.gif\n",
      "\u001b[36m\u001b[1m[ \u001b[22m\u001b[39m\u001b[36m\u001b[1mInfo: \u001b[22m\u001b[39mSaved animation to e:\\reyal\\Documents\\gitWorkspace\\cinvestav\\EEG\\exp136_Igancio_32CH_Resultadosgifs\\Trayectorias_07.gif\n",
      "\u001b[36m\u001b[1m[ \u001b[22m\u001b[39m\u001b[36m\u001b[1mInfo: \u001b[22m\u001b[39mSaved animation to e:\\reyal\\Documents\\gitWorkspace\\cinvestav\\EEG\\exp136_Igancio_32CH_Resultadosgifs\\CSDA_08.gif\n",
      "\u001b[36m\u001b[1m[ \u001b[22m\u001b[39m\u001b[36m\u001b[1mInfo: \u001b[22m\u001b[39mSaved animation to e:\\reyal\\Documents\\gitWorkspace\\cinvestav\\EEG\\exp136_Igancio_32CH_Resultadosgifs\\Trayectorias_08.gif\n",
      "\u001b[36m\u001b[1m[ \u001b[22m\u001b[39m\u001b[36m\u001b[1mInfo: \u001b[22m\u001b[39mSaved animation to e:\\reyal\\Documents\\gitWorkspace\\cinvestav\\EEG\\exp136_Igancio_32CH_Resultadosgifs\\CSDA_09.gif\n",
      "\u001b[36m\u001b[1m[ \u001b[22m\u001b[39m\u001b[36m\u001b[1mInfo: \u001b[22m\u001b[39mSaved animation to e:\\reyal\\Documents\\gitWorkspace\\cinvestav\\EEG\\exp136_Igancio_32CH_Resultadosgifs\\Trayectorias_09.gif\n",
      "\u001b[36m\u001b[1m[ \u001b[22m\u001b[39m\u001b[36m\u001b[1mInfo: \u001b[22m\u001b[39mSaved animation to e:\\reyal\\Documents\\gitWorkspace\\cinvestav\\EEG\\exp136_Igancio_32CH_Resultadosgifs\\CSDA_10.gif\n",
      "\u001b[36m\u001b[1m[ \u001b[22m\u001b[39m\u001b[36m\u001b[1mInfo: \u001b[22m\u001b[39mSaved animation to e:\\reyal\\Documents\\gitWorkspace\\cinvestav\\EEG\\exp136_Igancio_32CH_Resultadosgifs\\Trayectorias_10.gif\n",
      "\u001b[36m\u001b[1m[ \u001b[22m\u001b[39m\u001b[36m\u001b[1mInfo: \u001b[22m\u001b[39mSaved animation to e:\\reyal\\Documents\\gitWorkspace\\cinvestav\\EEG\\exp136_Igancio_32CH_Resultadosgifs\\CSDA_11.gif\n",
      "\u001b[36m\u001b[1m[ \u001b[22m\u001b[39m\u001b[36m\u001b[1mInfo: \u001b[22m\u001b[39mSaved animation to e:\\reyal\\Documents\\gitWorkspace\\cinvestav\\EEG\\exp136_Igancio_32CH_Resultadosgifs\\Trayectorias_11.gif\n",
      "\u001b[36m\u001b[1m[ \u001b[22m\u001b[39m\u001b[36m\u001b[1mInfo: \u001b[22m\u001b[39mSaved animation to e:\\reyal\\Documents\\gitWorkspace\\cinvestav\\EEG\\exp136_Igancio_32CH_Resultadosgifs\\CSDA_12.gif\n",
      "\u001b[36m\u001b[1m[ \u001b[22m\u001b[39m\u001b[36m\u001b[1mInfo: \u001b[22m\u001b[39mSaved animation to e:\\reyal\\Documents\\gitWorkspace\\cinvestav\\EEG\\exp136_Igancio_32CH_Resultadosgifs\\Trayectorias_12.gif\n",
      "\u001b[36m\u001b[1m[ \u001b[22m\u001b[39m\u001b[36m\u001b[1mInfo: \u001b[22m\u001b[39mSaved animation to e:\\reyal\\Documents\\gitWorkspace\\cinvestav\\EEG\\exp136_Igancio_32CH_Resultadosgifs\\CSDA_13.gif\n",
      "\u001b[36m\u001b[1m[ \u001b[22m\u001b[39m\u001b[36m\u001b[1mInfo: \u001b[22m\u001b[39mSaved animation to e:\\reyal\\Documents\\gitWorkspace\\cinvestav\\EEG\\exp136_Igancio_32CH_Resultadosgifs\\Trayectorias_13.gif\n",
      "\u001b[36m\u001b[1m[ \u001b[22m\u001b[39m\u001b[36m\u001b[1mInfo: \u001b[22m\u001b[39mSaved animation to e:\\reyal\\Documents\\gitWorkspace\\cinvestav\\EEG\\exp136_Igancio_32CH_Resultadosgifs\\CSDA_14.gif\n",
      "\u001b[36m\u001b[1m[ \u001b[22m\u001b[39m\u001b[36m\u001b[1mInfo: \u001b[22m\u001b[39mSaved animation to e:\\reyal\\Documents\\gitWorkspace\\cinvestav\\EEG\\exp136_Igancio_32CH_Resultadosgifs\\Trayectorias_14.gif\n",
      "\u001b[36m\u001b[1m[ \u001b[22m\u001b[39m\u001b[36m\u001b[1mInfo: \u001b[22m\u001b[39mSaved animation to e:\\reyal\\Documents\\gitWorkspace\\cinvestav\\EEG\\exp136_Igancio_32CH_Resultadosgifs\\CSDA_15.gif\n",
      "\u001b[36m\u001b[1m[ \u001b[22m\u001b[39m\u001b[36m\u001b[1mInfo: \u001b[22m\u001b[39mSaved animation to e:\\reyal\\Documents\\gitWorkspace\\cinvestav\\EEG\\exp136_Igancio_32CH_Resultadosgifs\\Trayectorias_15.gif\n"
     ]
    }
   ],
   "source": [
    "cachos = 15\n",
    "tamaño = size( MVcsda )[ 3 ] / cachos\n",
    "nomcsda = \"CSDA_\"\n",
    "nombintray = \"Trayectorias_\"\n",
    "nd = 2\n",
    "xylims = [ -3 3 -3 3 ]\n",
    "longtray = 5\n",
    "fr = 500\n",
    "ruta_gifs = joinpath( ruta_resultados * \"gifs\" );\n",
    "mkpath( ruta_gifs );\n",
    "cd( ruta_gifs )\n",
    "for i in 1:cachos\n",
    "    start = Int(( tamaño * ( i - 1) + 1 ))\n",
    "    finish = Int(( tamaño * i ))\n",
    "    limites = extrema(MVcsda[:,:, start:finish ])\n",
    "    anima = @animate for i in start:finish\n",
    "        A = heatmap(MVcsda[:,:,i] , clims=limites , yflip = true )\n",
    "    end\n",
    "    NomGifCSDA = string( nomcsda , lpad( i , nd , \"0\") , \".gif\" )\n",
    "    gif(anima, NomGifCSDA , fps = 120);\n",
    "    anima = TraysFrameXFrame(longtray , start , finish , IniciosP , FinalesP , TraysPosP \n",
    "                            , CTP , xylims, IniciosN , FinalesN , TraysNegP , CTN , fr )\n",
    "    NomBinTray = string( nombintray , lpad( i , nd , \"0\") , \".gif\" )\n",
    "    gif( anima, NomBinTray , fps = 120);\n",
    "end"
   ]
  },
  {
   "cell_type": "code",
   "execution_count": 9,
   "id": "a1486841",
   "metadata": {},
   "outputs": [
    {
     "ename": "LoadError",
     "evalue": "UndefVarError: Conexiones not defined",
     "output_type": "error",
     "traceback": [
      "UndefVarError: Conexiones not defined",
      "",
      "Stacktrace:",
      " [1] top-level scope",
      "   @ In[9]:11"
     ]
    }
   ],
   "source": [
    "# Ahora el proposito es generar una matriz donde se diga con qué elementos está conectado\n",
    "# y lograr graficar la estructura\n",
    "\n",
    "\n",
    "\n",
    "# Conexiones = MatrizDeConexiones( Headers , Coordenadas , Prohibidas , combs );\n",
    "\n",
    "\n",
    "# Esta es una prueba de una matriz interesante para representar el voltaje con Conexiones\n",
    "n = 62\n",
    "ImageConexiones = graphplot(Conexiones,\n",
    "          markersize = 0.17,\n",
    "          #node_weights = MV[1],\n",
    "          curves = false,\n",
    "          background_color = :darkgray,\n",
    "          markercolor = range(colorant\"yellow\", stop=colorant\"red\", length=n),\n",
    "          names = Headers,\n",
    "          fontsize = 10,\n",
    "          nodeshape = :circle,\n",
    "          linecolor = :darkgrey\n",
    "          );\n",
    "\n",
    "\n",
    "\n",
    "\n",
    "# Se crea un array MV ideal para graficar en la matriz de tipo conexiones y Cuadrada\n",
    "MV = ArrayDeConexiones( Canales , Headers );\n",
    "NomConex = Archivo*\"_DatosEnConexiones.jld\"\n",
    "ruta_archivo = joinpath( ruta_resultados , NomConex )\n",
    "#save( ruta_archivo , \"MV\" , MV )"
   ]
  },
  {
   "cell_type": "code",
   "execution_count": null,
   "id": "b46cd52a",
   "metadata": {},
   "outputs": [],
   "source": [
    "CatenarioPositivo , CatenarioNegativo = Trayectorias( CMP , CMN , 1000 );"
   ]
  },
  {
   "cell_type": "code",
   "execution_count": null,
   "id": "9f12c66d",
   "metadata": {},
   "outputs": [],
   "source": [
    "TraysPos = Dinamica_LV( CMP , DistTol , TTol );\n",
    "TraysNeg = Dinamica_LV( CMN , DistTol , TTol );"
   ]
  }
 ],
 "metadata": {
  "kernelspec": {
   "display_name": "Julia 1.7.2",
   "language": "julia",
   "name": "julia-1.7"
  },
  "language_info": {
   "file_extension": ".jl",
   "mimetype": "application/julia",
   "name": "julia",
   "version": "1.7.2"
  }
 },
 "nbformat": 4,
 "nbformat_minor": 5
}
